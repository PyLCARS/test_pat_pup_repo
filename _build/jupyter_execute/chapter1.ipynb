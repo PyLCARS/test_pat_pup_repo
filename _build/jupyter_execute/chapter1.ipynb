{
 "cells": [
  {
   "cell_type": "markdown",
   "metadata": {},
   "source": [
    "# Chapter 1: Python Basics\n",
    "\n",
    "In this chapter, we'll explore fundamental Python concepts including variables, functions, and control flow."
   ]
  },
  {
   "cell_type": "markdown",
   "metadata": {},
   "source": [
    "## Variables and Data Types\n",
    "\n",
    "Python supports various data types. Let's explore some basic ones:"
   ]
  },
  {
   "cell_type": "code",
   "execution_count": 1,
   "metadata": {},
   "outputs": [
    {
     "name": "stdout",
     "output_type": "stream",
     "text": [
      "Integer: 42\n",
      "Float: 3.14159\n",
      "String: Python\n",
      "Boolean: True\n"
     ]
    }
   ],
   "source": [
    "# Numbers\n",
    "integer_num = 42\n",
    "float_num = 3.14159\n",
    "\n",
    "# Strings\n",
    "name = \"Python\"\n",
    "message = 'Hello, World!'\n",
    "\n",
    "# Booleans\n",
    "is_active = True\n",
    "is_closed = False\n",
    "\n",
    "print(f\"Integer: {integer_num}\")\n",
    "print(f\"Float: {float_num}\")\n",
    "print(f\"String: {name}\")\n",
    "print(f\"Boolean: {is_active}\")"
   ]
  },
  {
   "cell_type": "markdown",
   "metadata": {},
   "source": [
    "## Functions\n",
    "\n",
    "Functions help us organize and reuse code:"
   ]
  },
  {
   "cell_type": "code",
   "execution_count": 2,
   "metadata": {},
   "outputs": [
    {
     "name": "stdout",
     "output_type": "stream",
     "text": [
      "Hello, Alice!\n",
      "Hi, Bob!\n",
      "Welcome, Charlie!\n"
     ]
    }
   ],
   "source": [
    "def greet(name, greeting=\"Hello\"):\n",
    "    \"\"\"A simple greeting function with a default parameter.\"\"\"\n",
    "    return f\"{greeting}, {name}!\"\n",
    "\n",
    "# Using the function\n",
    "print(greet(\"Alice\"))\n",
    "print(greet(\"Bob\", \"Hi\"))\n",
    "print(greet(\"Charlie\", greeting=\"Welcome\"))"
   ]
  },
  {
   "cell_type": "code",
   "execution_count": 3,
   "metadata": {},
   "outputs": [
    {
     "name": "stdout",
     "output_type": "stream",
     "text": [
      "Room area: 14.4 square meters\n",
      "Garden area: 150 square meters\n"
     ]
    }
   ],
   "source": [
    "def calculate_area(length, width):\n",
    "    \"\"\"Calculate the area of a rectangle.\"\"\"\n",
    "    area = length * width\n",
    "    return area\n",
    "\n",
    "# Calculate some areas\n",
    "room_area = calculate_area(4.5, 3.2)\n",
    "garden_area = calculate_area(10, 15)\n",
    "\n",
    "print(f\"Room area: {room_area} square meters\")\n",
    "print(f\"Garden area: {garden_area} square meters\")"
   ]
  },
  {
   "cell_type": "markdown",
   "metadata": {},
   "source": [
    "## Control Flow\n",
    "\n",
    "Python provides various control flow structures:"
   ]
  },
  {
   "cell_type": "code",
   "execution_count": 4,
   "metadata": {},
   "outputs": [
    {
     "name": "stdout",
     "output_type": "stream",
     "text": [
      "It's warm and pleasant.\n"
     ]
    }
   ],
   "source": [
    "# If-elif-else statements\n",
    "temperature = 25\n",
    "\n",
    "if temperature > 30:\n",
    "    print(\"It's hot outside!\")\n",
    "elif temperature > 20:\n",
    "    print(\"It's warm and pleasant.\")\n",
    "elif temperature > 10:\n",
    "    print(\"It's cool outside.\")\n",
    "else:\n",
    "    print(\"It's cold!\")"
   ]
  },
  {
   "cell_type": "code",
   "execution_count": 5,
   "metadata": {},
   "outputs": [
    {
     "name": "stdout",
     "output_type": "stream",
     "text": [
      "Available fruits:\n",
      "1. Apple\n",
      "2. Banana\n",
      "3. Orange\n",
      "4. Grape\n",
      "5. Mango\n"
     ]
    }
   ],
   "source": [
    "# For loops\n",
    "fruits = [\"apple\", \"banana\", \"orange\", \"grape\", \"mango\"]\n",
    "\n",
    "print(\"Available fruits:\")\n",
    "for i, fruit in enumerate(fruits, 1):\n",
    "    print(f\"{i}. {fruit.capitalize()}\")"
   ]
  },
  {
   "cell_type": "code",
   "execution_count": 6,
   "metadata": {},
   "outputs": [
    {
     "name": "stdout",
     "output_type": "stream",
     "text": [
      "Countdown:\n",
      "5...\n",
      "4...\n",
      "3...\n",
      "2...\n",
      "1...\n",
      "Blast off! 🚀\n"
     ]
    }
   ],
   "source": [
    "# While loops\n",
    "countdown = 5\n",
    "print(\"Countdown:\")\n",
    "\n",
    "while countdown > 0:\n",
    "    print(f\"{countdown}...\")\n",
    "    countdown -= 1\n",
    "\n",
    "print(\"Blast off! 🚀\")"
   ]
  },
  {
   "cell_type": "markdown",
   "metadata": {},
   "source": [
    "## List Comprehensions\n",
    "\n",
    "Python's list comprehensions provide a concise way to create lists:"
   ]
  },
  {
   "cell_type": "code",
   "execution_count": 7,
   "metadata": {},
   "outputs": [
    {
     "name": "stdout",
     "output_type": "stream",
     "text": [
      "Traditional: [1, 4, 9, 16, 25]\n",
      "Comprehension: [1, 4, 9, 16, 25]\n",
      "Even squares: [4, 16, 36, 64, 100]\n"
     ]
    }
   ],
   "source": [
    "# Traditional approach\n",
    "squares_traditional = []\n",
    "for i in range(1, 6):\n",
    "    squares_traditional.append(i ** 2)\n",
    "\n",
    "# List comprehension\n",
    "squares_comprehension = [i ** 2 for i in range(1, 6)]\n",
    "\n",
    "print(f\"Traditional: {squares_traditional}\")\n",
    "print(f\"Comprehension: {squares_comprehension}\")\n",
    "\n",
    "# With conditions\n",
    "even_squares = [i ** 2 for i in range(1, 11) if i % 2 == 0]\n",
    "print(f\"Even squares: {even_squares}\")"
   ]
  },
  {
   "cell_type": "markdown",
   "metadata": {},
   "source": [
    "## Practice Exercise\n",
    "\n",
    "Try modifying the code below to create a function that checks if a number is prime:"
   ]
  },
  {
   "cell_type": "code",
   "execution_count": 8,
   "metadata": {},
   "outputs": [
    {
     "name": "stdout",
     "output_type": "stream",
     "text": [
      "2 is prime\n",
      "3 is prime\n",
      "4 is not prime\n",
      "5 is prime\n",
      "10 is not prime\n",
      "11 is prime\n",
      "17 is prime\n",
      "20 is not prime\n",
      "23 is prime\n"
     ]
    }
   ],
   "source": [
    "def is_prime(n):\n",
    "    \"\"\"Check if a number is prime.\"\"\"\n",
    "    if n < 2:\n",
    "        return False\n",
    "    \n",
    "    for i in range(2, int(n ** 0.5) + 1):\n",
    "        if n % i == 0:\n",
    "            return False\n",
    "    \n",
    "    return True\n",
    "\n",
    "# Test the function\n",
    "test_numbers = [2, 3, 4, 5, 10, 11, 17, 20, 23]\n",
    "for num in test_numbers:\n",
    "    result = \"prime\" if is_prime(num) else \"not prime\"\n",
    "    print(f\"{num} is {result}\")"
   ]
  }
 ],
 "metadata": {
  "kernelspec": {
   "display_name": "Python 3",
   "language": "python",
   "name": "python3"
  },
  "language_info": {
   "codemirror_mode": {
    "name": "ipython",
    "version": 3
   },
   "file_extension": ".py",
   "mimetype": "text/x-python",
   "name": "python",
   "nbconvert_exporter": "python",
   "pygments_lexer": "ipython3",
   "version": "3.9.22"
  }
 },
 "nbformat": 4,
 "nbformat_minor": 4
}